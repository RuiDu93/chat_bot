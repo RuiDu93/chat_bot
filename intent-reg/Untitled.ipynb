{
 "cells": [
  {
   "cell_type": "code",
   "execution_count": 200,
   "metadata": {
    "collapsed": true
   },
   "outputs": [],
   "source": [
    "import jieba\n",
    "import pandas as pd\n",
    "from sklearn.feature_selection import SelectKBest\n",
    "from sklearn.feature_selection import SelectPercentile\n",
    "from sklearn.ensemble import RandomForestClassifier\n",
    "from sklearn.feature_selection import chi2"
   ]
  },
  {
   "cell_type": "code",
   "execution_count": 181,
   "metadata": {},
   "outputs": [
    {
     "name": "stdout",
     "output_type": "stream",
     "text": [
      "{'搜': 8, '北京': 15, '夜晚': 8, '的': 32, '图': 2, '一下': 13, '晚上': 4, '壁纸': 13, '找下': 1, '想': 6, '给': 4, '手机': 1, '换': 2, '一张': 4, '电脑': 1, '找': 9, '五张': 2, '图片': 16, '蔷薇': 1, '汽车': 1, '有没有': 2, '夏天': 2, '能': 9, '不能': 2, '冬天': 2, '北邮': 6, '傍晚': 2, '我': 20, '星空': 1, '百度': 4, '天空': 1, '帮': 14, '太阳系': 1, '吗': 8, '搜索': 5, '日本': 1, '樱花': 1, '吧': 2, '在': 44, '秋天': 1, '图片吧': 1, '可以': 1, '百度搜': 2, '夜景': 1, '下': 3, '九张': 1, '十张': 1, '想要': 3, '你': 1, '上': 12, '帮个': 1, '忙': 2, '，': 25, '三张': 2, '校门口': 1, '当': 1, '发个': 5, '话题': 19, '今天': 1, '学校': 1, '检查': 1, '违禁品': 1, '请': 2, '整理': 1, '好': 5, '自己': 1, '东西': 1, '企业': 28, '版': 14, '自邮之翼': 18, '通知': 12, '所有人': 2, 'freeshare': 19, '提醒': 4, 'ch': 17, '让': 2, '他': 1, '别忘了': 3, '周三': 1, '会议': 4, '发': 8, '小组': 29, '大家': 3, '明天': 5, '下雨': 1, '记得': 2, '带伞': 1, '版自': 12, '邮之翼': 12, '内容': 5, '是': 5, '及时': 1, '提交': 1, '中期': 1, '检查报告': 1, '告诉': 5, '和': 2, 'nn': 3, '下午': 8, '早点': 1, '来': 5, '实验室': 7, '发在': 4, '就行了': 1, '取消': 1, '了': 3, '我要': 1, '上午': 1, '大会堂': 1, '见面': 1, '一条': 1, '发布': 15, '记录': 1, '摘要': 1, '一个': 11, '失恋': 1, '伤心': 1, '版上': 2, '哪儿': 1, '开会': 2, '人': 1, '愿意': 1, '周末': 1, '去': 2, '爬山': 1, '问': 1, '送': 1, '哪': 2, '种花': 1, '女友': 1, '最好': 2, '问下': 1, '种颜色': 1, '口红': 1, '天': 1, '冷': 1, '盖': 1, '被子': 1, '带': 1, '准考证': 1, 'ni': 1, '下次': 1, '交': 1, '报告': 1, '个人版': 3, '天气': 1, '很': 1, '呀': 1, '郊游': 1, '我们': 1, '要': 1, '发财': 1, '啦': 1, '不': 1, '用来': 1, '都': 1, '别来': 1, '求': 1, 'spring': 1, '资料': 2, '上发': 1, '未来': 1, '路': 1, '怎么': 1, '走': 1, '如何': 2, '加入': 1, '收集': 1, '把': 1, '三点': 1, '跳转': 1, '到': 1, '外来': 1, '和尚': 1, '念经': 1}\n"
     ]
    }
   ],
   "source": [
    "# 生成vsm词袋模型\n",
    "bag_of_words ={}\n",
    "text_list =[]\n",
    "_label = []\n",
    "\n",
    "\n",
    "search_pd = pd.read_csv('./search.csv' ,header= -1)\n",
    "# todo 技术方案不好的原因...?\n",
    "for s in search_pd.iterrows():\n",
    "    seg_list = jieba.lcut(s[1][0], cut_all=False)\n",
    "    text_list.append(seg_list)\n",
    "    _label.append(0)\n",
    "    for seg in seg_list:\n",
    "        if seg not in bag_of_words:\n",
    "            bag_of_words[seg] = 1\n",
    "        else:\n",
    "            bag_of_words[seg] += 1\n",
    "\n",
    "\n",
    "pub_pd = pd.read_csv('./pub.csv' ,header= -1)\n",
    "for s in pub_pd.iterrows():\n",
    "    seg_list = jieba.lcut(s[1][0], cut_all=False)\n",
    "    text_list.append(seg_list)\n",
    "    _label.append(1)\n",
    "    for seg in seg_list:\n",
    "        if seg not in bag_of_words:\n",
    "            bag_of_words[seg] = 1\n",
    "        else:\n",
    "            bag_of_words[seg] += 1\n",
    "\n",
    "print(bag_of_words)"
   ]
  },
  {
   "cell_type": "code",
   "execution_count": 182,
   "metadata": {
    "collapsed": true
   },
   "outputs": [],
   "source": [
    "## todo\n",
    "## 运用卡方检验...来进行降维~"
   ]
  },
  {
   "cell_type": "code",
   "execution_count": 183,
   "metadata": {},
   "outputs": [
    {
     "name": "stdout",
     "output_type": "stream",
     "text": [
      "{'搜': {'index': 0, 'count': 8}, '北京': {'index': 1, 'count': 15}, '夜晚': {'index': 2, 'count': 8}, '的': {'index': 3, 'count': 32}, '图': {'index': 4, 'count': 2}, '一下': {'index': 5, 'count': 13}, '晚上': {'index': 6, 'count': 4}, '壁纸': {'index': 7, 'count': 13}, '找下': {'index': 8, 'count': 1}, '想': {'index': 9, 'count': 6}, '给': {'index': 10, 'count': 4}, '手机': {'index': 11, 'count': 1}, '换': {'index': 12, 'count': 2}, '一张': {'index': 13, 'count': 4}, '电脑': {'index': 14, 'count': 1}, '找': {'index': 15, 'count': 9}, '五张': {'index': 16, 'count': 2}, '图片': {'index': 17, 'count': 16}, '蔷薇': {'index': 18, 'count': 1}, '汽车': {'index': 19, 'count': 1}, '有没有': {'index': 20, 'count': 2}, '夏天': {'index': 21, 'count': 2}, '能': {'index': 22, 'count': 9}, '不能': {'index': 23, 'count': 2}, '冬天': {'index': 24, 'count': 2}, '北邮': {'index': 25, 'count': 6}, '傍晚': {'index': 26, 'count': 2}, '我': {'index': 27, 'count': 20}, '星空': {'index': 28, 'count': 1}, '百度': {'index': 29, 'count': 4}, '天空': {'index': 30, 'count': 1}, '帮': {'index': 31, 'count': 14}, '太阳系': {'index': 32, 'count': 1}, '吗': {'index': 33, 'count': 8}, '搜索': {'index': 34, 'count': 5}, '日本': {'index': 35, 'count': 1}, '樱花': {'index': 36, 'count': 1}, '吧': {'index': 37, 'count': 2}, '在': {'index': 38, 'count': 44}, '秋天': {'index': 39, 'count': 1}, '图片吧': {'index': 40, 'count': 1}, '可以': {'index': 41, 'count': 1}, '百度搜': {'index': 42, 'count': 2}, '夜景': {'index': 43, 'count': 1}, '下': {'index': 44, 'count': 3}, '九张': {'index': 45, 'count': 1}, '十张': {'index': 46, 'count': 1}, '想要': {'index': 47, 'count': 3}, '你': {'index': 48, 'count': 1}, '上': {'index': 49, 'count': 12}, '帮个': {'index': 50, 'count': 1}, '忙': {'index': 51, 'count': 2}, '，': {'index': 52, 'count': 25}, '三张': {'index': 53, 'count': 2}, '校门口': {'index': 54, 'count': 1}, '当': {'index': 55, 'count': 1}, '发个': {'index': 56, 'count': 5}, '话题': {'index': 57, 'count': 19}, '今天': {'index': 58, 'count': 1}, '学校': {'index': 59, 'count': 1}, '检查': {'index': 60, 'count': 1}, '违禁品': {'index': 61, 'count': 1}, '请': {'index': 62, 'count': 2}, '整理': {'index': 63, 'count': 1}, '好': {'index': 64, 'count': 5}, '自己': {'index': 65, 'count': 1}, '东西': {'index': 66, 'count': 1}, '企业': {'index': 67, 'count': 28}, '版': {'index': 68, 'count': 14}, '自邮之翼': {'index': 69, 'count': 18}, '通知': {'index': 70, 'count': 12}, '所有人': {'index': 71, 'count': 2}, 'freeshare': {'index': 72, 'count': 19}, '提醒': {'index': 73, 'count': 4}, 'ch': {'index': 74, 'count': 17}, '让': {'index': 75, 'count': 2}, '他': {'index': 76, 'count': 1}, '别忘了': {'index': 77, 'count': 3}, '周三': {'index': 78, 'count': 1}, '会议': {'index': 79, 'count': 4}, '发': {'index': 80, 'count': 8}, '小组': {'index': 81, 'count': 29}, '大家': {'index': 82, 'count': 3}, '明天': {'index': 83, 'count': 5}, '下雨': {'index': 84, 'count': 1}, '记得': {'index': 85, 'count': 2}, '带伞': {'index': 86, 'count': 1}, '版自': {'index': 87, 'count': 12}, '邮之翼': {'index': 88, 'count': 12}, '内容': {'index': 89, 'count': 5}, '是': {'index': 90, 'count': 5}, '及时': {'index': 91, 'count': 1}, '提交': {'index': 92, 'count': 1}, '中期': {'index': 93, 'count': 1}, '检查报告': {'index': 94, 'count': 1}, '告诉': {'index': 95, 'count': 5}, '和': {'index': 96, 'count': 2}, 'nn': {'index': 97, 'count': 3}, '下午': {'index': 98, 'count': 8}, '早点': {'index': 99, 'count': 1}, '来': {'index': 100, 'count': 5}, '实验室': {'index': 101, 'count': 7}, '发在': {'index': 102, 'count': 4}, '就行了': {'index': 103, 'count': 1}, '取消': {'index': 104, 'count': 1}, '了': {'index': 105, 'count': 3}, '我要': {'index': 106, 'count': 1}, '上午': {'index': 107, 'count': 1}, '大会堂': {'index': 108, 'count': 1}, '见面': {'index': 109, 'count': 1}, '一条': {'index': 110, 'count': 1}, '发布': {'index': 111, 'count': 15}, '记录': {'index': 112, 'count': 1}, '摘要': {'index': 113, 'count': 1}, '一个': {'index': 114, 'count': 11}, '失恋': {'index': 115, 'count': 1}, '伤心': {'index': 116, 'count': 1}, '版上': {'index': 117, 'count': 2}, '哪儿': {'index': 118, 'count': 1}, '开会': {'index': 119, 'count': 2}, '人': {'index': 120, 'count': 1}, '愿意': {'index': 121, 'count': 1}, '周末': {'index': 122, 'count': 1}, '去': {'index': 123, 'count': 2}, '爬山': {'index': 124, 'count': 1}, '问': {'index': 125, 'count': 1}, '送': {'index': 126, 'count': 1}, '哪': {'index': 127, 'count': 2}, '种花': {'index': 128, 'count': 1}, '女友': {'index': 129, 'count': 1}, '最好': {'index': 130, 'count': 2}, '问下': {'index': 131, 'count': 1}, '种颜色': {'index': 132, 'count': 1}, '口红': {'index': 133, 'count': 1}, '天': {'index': 134, 'count': 1}, '冷': {'index': 135, 'count': 1}, '盖': {'index': 136, 'count': 1}, '被子': {'index': 137, 'count': 1}, '带': {'index': 138, 'count': 1}, '准考证': {'index': 139, 'count': 1}, 'ni': {'index': 140, 'count': 1}, '下次': {'index': 141, 'count': 1}, '交': {'index': 142, 'count': 1}, '报告': {'index': 143, 'count': 1}, '个人版': {'index': 144, 'count': 3}, '天气': {'index': 145, 'count': 1}, '很': {'index': 146, 'count': 1}, '呀': {'index': 147, 'count': 1}, '郊游': {'index': 148, 'count': 1}, '我们': {'index': 149, 'count': 1}, '要': {'index': 150, 'count': 1}, '发财': {'index': 151, 'count': 1}, '啦': {'index': 152, 'count': 1}, '不': {'index': 153, 'count': 1}, '用来': {'index': 154, 'count': 1}, '都': {'index': 155, 'count': 1}, '别来': {'index': 156, 'count': 1}, '求': {'index': 157, 'count': 1}, 'spring': {'index': 158, 'count': 1}, '资料': {'index': 159, 'count': 2}, '上发': {'index': 160, 'count': 1}, '未来': {'index': 161, 'count': 1}, '路': {'index': 162, 'count': 1}, '怎么': {'index': 163, 'count': 1}, '走': {'index': 164, 'count': 1}, '如何': {'index': 165, 'count': 2}, '加入': {'index': 166, 'count': 1}, '收集': {'index': 167, 'count': 1}, '把': {'index': 168, 'count': 1}, '三点': {'index': 169, 'count': 1}, '跳转': {'index': 170, 'count': 1}, '到': {'index': 171, 'count': 1}, '外来': {'index': 172, 'count': 1}, '和尚': {'index': 173, 'count': 1}, '念经': {'index': 174, 'count': 1}}\n"
     ]
    }
   ],
   "source": [
    "## 最后的词袋\n",
    "vsm_vec = {}\n",
    "row_vsm_vec = []\n",
    "count = 0\n",
    "for key,value in bag_of_words.items():\n",
    "    sub_dic = {}\n",
    "    \n",
    "    # 其他的信息,比如重要性,tf-idf值之类的信息也保存再这里\n",
    "    sub_dic['index'] = count\n",
    "    count += 1\n",
    "    vsm_vec[key] = sub_dic\n",
    "    \n",
    "    row_vsm_vec.append(key)\n",
    "    \n",
    "    sub_dic['count'] = value\n",
    "    \n",
    "    # todo tf-idf的值!!!\n",
    "    \n",
    "print(vsm_vec)"
   ]
  },
  {
   "cell_type": "code",
   "execution_count": 184,
   "metadata": {},
   "outputs": [],
   "source": [
    "# 生成向量\n",
    "vec_col_count = len(vsm_vec)\n",
    "_list = []\n",
    "\n",
    "\n",
    "for l in text_list:\n",
    "    self_bag = {}\n",
    "    row_vec = [0]*vec_col_count\n",
    "    for wd in l:\n",
    "        if wd in self_bag:\n",
    "            self_bag[wd] += 1\n",
    "        else:\n",
    "            self_bag[wd] = 1\n",
    "    for b,c in self_bag.items():\n",
    "        if b in vsm_vec:\n",
    "            row_vec[vsm_vec[b]['index']] = c\n",
    "    _list.append(row_vec)"
   ]
  },
  {
   "cell_type": "code",
   "execution_count": 185,
   "metadata": {},
   "outputs": [],
   "source": [
    "# 卡方检验得到有效特征\n",
    "chi2 = SelectKBest(chi2,k=60).fit(_list, _label)"
   ]
  },
  {
   "cell_type": "code",
   "execution_count": 186,
   "metadata": {},
   "outputs": [],
   "source": [
    "# 输出rank的score！！\n",
    "# 排序！！\n",
    "\n",
    "f_ip = {}\n",
    "for col_index in range(0,vec_col_count):\n",
    "    f_ip[col_index] = chi2.scores_[col_index]\n",
    "\n",
    "items = f_ip.items()\n",
    "it = sorted(items,key=lambda d:d[1], reverse = True)\n",
    "f_ip_array = []\n",
    "\n",
    "for key,value in it:\n",
    "    f_ip_array.append(key)\n",
    "\n",
    "f_ip_array = f_ip_array[0:100]"
   ]
  },
  {
   "cell_type": "code",
   "execution_count": 193,
   "metadata": {},
   "outputs": [],
   "source": [
    "chi2_vsm_vec = {}\n",
    "\n",
    "chi2_count = 0\n",
    "for col_index in f_ip_array:\n",
    "    dic = vsm_vec[row_vsm_vec[col_index]]\n",
    "    dic['index'] = chi2_count\n",
    "    chi2_count += 1\n",
    "    chi2_vsm_vec[row_vsm_vec[col_index]] = dic\n",
    "\n"
   ]
  },
  {
   "cell_type": "code",
   "execution_count": 198,
   "metadata": {},
   "outputs": [
    {
     "name": "stdout",
     "output_type": "stream",
     "text": [
      "106\n"
     ]
    }
   ],
   "source": [
    "# 生成向量\n",
    "chi2_vec_col_count = len(chi2_vsm_vec)\n",
    "_chi2_list = []\n",
    "\n",
    "\n",
    "for l in text_list:\n",
    "    self_bag = {}\n",
    "    row_vec = [0]*chi2_vec_col_count\n",
    "    for wd in l:\n",
    "        if wd in self_bag:\n",
    "            self_bag[wd] += 1\n",
    "        else:\n",
    "            self_bag[wd] = 1\n",
    "    for b,c in self_bag.items():\n",
    "        if b in chi2_vsm_vec:\n",
    "            row_vec[chi2_vsm_vec[b]['index']] = c\n",
    "    _chi2_list.append(row_vec)\n"
   ]
  },
  {
   "cell_type": "code",
   "execution_count": 224,
   "metadata": {},
   "outputs": [
    {
     "data": {
      "text/plain": [
       "0.99056603773584906"
      ]
     },
     "execution_count": 224,
     "metadata": {},
     "output_type": "execute_result"
    }
   ],
   "source": [
    "clf = RandomForestClassifier(n_estimators=40,oob_score= True)\n",
    "clf = clf.fit(_chi2_list, _label)\n",
    "\n",
    "\n",
    "# 用随机森林做~ 嗯...为什么呢...\n",
    "clf.oob_score_"
   ]
  },
  {
   "cell_type": "code",
   "execution_count": 241,
   "metadata": {},
   "outputs": [
    {
     "name": "stdout",
     "output_type": "stream",
     "text": [
      "[0]\n",
      "[1]\n",
      "[1]\n",
      "[0]\n",
      "[0]\n",
      "[1]\n",
      "[1]\n"
     ]
    }
   ],
   "source": [
    "txt = ['找一下水杯的图片','发个话题吧!','我要发一个话题','来一张长城的图片','来张壁纸','百度搜图','hi! 我要搜图']\n",
    "\n",
    "#切词\n",
    "for t in txt:\n",
    "    seg_list = jieba.lcut(t, cut_all=False)\n",
    "\n",
    "    # 生成向量\n",
    "    chi2_vec_col_count = len(chi2_vsm_vec)\n",
    "    _chi2_list = []\n",
    "\n",
    "    l = seg_list\n",
    "\n",
    "    self_bag = {}\n",
    "    row_vec = [0]*chi2_vec_col_count\n",
    "    for wd in l:\n",
    "        if wd in self_bag:\n",
    "            self_bag[wd] += 1\n",
    "        else:\n",
    "            self_bag[wd] = 1\n",
    "    for b,c in self_bag.items():\n",
    "        if b in chi2_vsm_vec:\n",
    "            row_vec[chi2_vsm_vec[b]['index']] = c\n",
    "\n",
    "    print(clf.predict([row_vec]))\n"
   ]
  }
 ],
 "metadata": {
  "kernelspec": {
   "display_name": "Python 3",
   "language": "python",
   "name": "python3"
  },
  "language_info": {
   "codemirror_mode": {
    "name": "ipython",
    "version": 3
   },
   "file_extension": ".py",
   "mimetype": "text/x-python",
   "name": "python",
   "nbconvert_exporter": "python",
   "pygments_lexer": "ipython3",
   "version": "3.6.1"
  }
 },
 "nbformat": 4,
 "nbformat_minor": 2
}
